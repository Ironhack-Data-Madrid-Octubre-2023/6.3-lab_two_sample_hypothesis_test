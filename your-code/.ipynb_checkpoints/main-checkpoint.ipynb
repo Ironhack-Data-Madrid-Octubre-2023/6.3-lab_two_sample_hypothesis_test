{
 "cells": [
  {
   "cell_type": "markdown",
   "metadata": {},
   "source": [
    "# Before your start:\n",
    "- Read the README.md file\n",
    "- Comment as much as you can and use the resources (README.md file)\n",
    "- Happy learning!"
   ]
  },
  {
   "cell_type": "code",
   "execution_count": 30,
   "metadata": {},
   "outputs": [],
   "source": [
    "# import numpy and pandas\n",
    "import numpy as np\n",
    "import pandas as pd\n",
    "from scipy.stats import ttest_rel  \n",
    "\n",
    "from scipy.stats import ttest_ind  \n",
    "from scipy.stats import chi2_contingency\n",
    "from scipy.stats import ttest_1samp "
   ]
  },
  {
   "cell_type": "markdown",
   "metadata": {},
   "source": [
    "# Challenge 1 - Independent Sample T-tests\n",
    "\n",
    "In this challenge, we will be using the Pokemon dataset. Before applying statistical methods to this data, let's first examine the data.\n",
    "\n",
    "To load the data, run the code below."
   ]
  },
  {
   "cell_type": "code",
   "execution_count": 2,
   "metadata": {},
   "outputs": [],
   "source": [
    "# Run this code:\n",
    "pokemon = pd.read_csv('../pokemon.csv')"
   ]
  },
  {
   "cell_type": "markdown",
   "metadata": {},
   "source": [
    "Let's start off by looking at the `head` function in the cell below."
   ]
  },
  {
   "cell_type": "code",
   "execution_count": 3,
   "metadata": {},
   "outputs": [
    {
     "data": {
      "text/html": [
       "<div>\n",
       "<style scoped>\n",
       "    .dataframe tbody tr th:only-of-type {\n",
       "        vertical-align: middle;\n",
       "    }\n",
       "\n",
       "    .dataframe tbody tr th {\n",
       "        vertical-align: top;\n",
       "    }\n",
       "\n",
       "    .dataframe thead th {\n",
       "        text-align: right;\n",
       "    }\n",
       "</style>\n",
       "<table border=\"1\" class=\"dataframe\">\n",
       "  <thead>\n",
       "    <tr style=\"text-align: right;\">\n",
       "      <th></th>\n",
       "      <th>#</th>\n",
       "      <th>Name</th>\n",
       "      <th>Type 1</th>\n",
       "      <th>Type 2</th>\n",
       "      <th>Total</th>\n",
       "      <th>HP</th>\n",
       "      <th>Attack</th>\n",
       "      <th>Defense</th>\n",
       "      <th>Sp. Atk</th>\n",
       "      <th>Sp. Def</th>\n",
       "      <th>Speed</th>\n",
       "      <th>Generation</th>\n",
       "      <th>Legendary</th>\n",
       "    </tr>\n",
       "  </thead>\n",
       "  <tbody>\n",
       "    <tr>\n",
       "      <th>0</th>\n",
       "      <td>1</td>\n",
       "      <td>Bulbasaur</td>\n",
       "      <td>Grass</td>\n",
       "      <td>Poison</td>\n",
       "      <td>318</td>\n",
       "      <td>45</td>\n",
       "      <td>49</td>\n",
       "      <td>49</td>\n",
       "      <td>65</td>\n",
       "      <td>65</td>\n",
       "      <td>45</td>\n",
       "      <td>1</td>\n",
       "      <td>False</td>\n",
       "    </tr>\n",
       "    <tr>\n",
       "      <th>1</th>\n",
       "      <td>2</td>\n",
       "      <td>Ivysaur</td>\n",
       "      <td>Grass</td>\n",
       "      <td>Poison</td>\n",
       "      <td>405</td>\n",
       "      <td>60</td>\n",
       "      <td>62</td>\n",
       "      <td>63</td>\n",
       "      <td>80</td>\n",
       "      <td>80</td>\n",
       "      <td>60</td>\n",
       "      <td>1</td>\n",
       "      <td>False</td>\n",
       "    </tr>\n",
       "    <tr>\n",
       "      <th>2</th>\n",
       "      <td>3</td>\n",
       "      <td>Venusaur</td>\n",
       "      <td>Grass</td>\n",
       "      <td>Poison</td>\n",
       "      <td>525</td>\n",
       "      <td>80</td>\n",
       "      <td>82</td>\n",
       "      <td>83</td>\n",
       "      <td>100</td>\n",
       "      <td>100</td>\n",
       "      <td>80</td>\n",
       "      <td>1</td>\n",
       "      <td>False</td>\n",
       "    </tr>\n",
       "    <tr>\n",
       "      <th>3</th>\n",
       "      <td>3</td>\n",
       "      <td>VenusaurMega Venusaur</td>\n",
       "      <td>Grass</td>\n",
       "      <td>Poison</td>\n",
       "      <td>625</td>\n",
       "      <td>80</td>\n",
       "      <td>100</td>\n",
       "      <td>123</td>\n",
       "      <td>122</td>\n",
       "      <td>120</td>\n",
       "      <td>80</td>\n",
       "      <td>1</td>\n",
       "      <td>False</td>\n",
       "    </tr>\n",
       "    <tr>\n",
       "      <th>4</th>\n",
       "      <td>4</td>\n",
       "      <td>Charmander</td>\n",
       "      <td>Fire</td>\n",
       "      <td>NaN</td>\n",
       "      <td>309</td>\n",
       "      <td>39</td>\n",
       "      <td>52</td>\n",
       "      <td>43</td>\n",
       "      <td>60</td>\n",
       "      <td>50</td>\n",
       "      <td>65</td>\n",
       "      <td>1</td>\n",
       "      <td>False</td>\n",
       "    </tr>\n",
       "  </tbody>\n",
       "</table>\n",
       "</div>"
      ],
      "text/plain": [
       "   #                   Name Type 1  Type 2  Total  HP  Attack  Defense  \\\n",
       "0  1              Bulbasaur  Grass  Poison    318  45      49       49   \n",
       "1  2                Ivysaur  Grass  Poison    405  60      62       63   \n",
       "2  3               Venusaur  Grass  Poison    525  80      82       83   \n",
       "3  3  VenusaurMega Venusaur  Grass  Poison    625  80     100      123   \n",
       "4  4             Charmander   Fire     NaN    309  39      52       43   \n",
       "\n",
       "   Sp. Atk  Sp. Def  Speed  Generation  Legendary  \n",
       "0       65       65     45           1      False  \n",
       "1       80       80     60           1      False  \n",
       "2      100      100     80           1      False  \n",
       "3      122      120     80           1      False  \n",
       "4       60       50     65           1      False  "
      ]
     },
     "execution_count": 3,
     "metadata": {},
     "output_type": "execute_result"
    }
   ],
   "source": [
    "# Your code here:\n",
    "pokemon.head()"
   ]
  },
  {
   "cell_type": "markdown",
   "metadata": {},
   "source": [
    "The first thing we would like to do is compare the legendary Pokemon to the regular Pokemon. To do this, we should examine the data further. What is the count of legendary vs. non legendary Pokemons?"
   ]
  },
  {
   "cell_type": "code",
   "execution_count": 4,
   "metadata": {},
   "outputs": [
    {
     "data": {
      "text/plain": [
       "False    735\n",
       "True      65\n",
       "Name: Legendary, dtype: int64"
      ]
     },
     "execution_count": 4,
     "metadata": {},
     "output_type": "execute_result"
    }
   ],
   "source": [
    "# Your code here:\n",
    "pokemon.Legendary.value_counts()"
   ]
  },
  {
   "cell_type": "markdown",
   "metadata": {},
   "source": [
    "Compute the mean and standard deviation of the total points for both legendary and non-legendary Pokemon."
   ]
  },
  {
   "cell_type": "code",
   "execution_count": 10,
   "metadata": {},
   "outputs": [
    {
     "name": "stdout",
     "output_type": "stream",
     "text": [
      "mean Legendary:  637.3846153846154  / std Legendary:  60.93738905315346\n",
      "mean Not Legendary:  417.21360544217686  / std  Not Legendary:  106.76041745713022\n"
     ]
    }
   ],
   "source": [
    "# Your code here:\n",
    "print(\"mean Legendary: \", pokemon.Total[pokemon.Legendary].mean(), \" / std Legendary: \", pokemon.Total[pokemon.Legendary].std())\n",
    "print(\"mean Not Legendary: \", pokemon.Total[~pokemon.Legendary].mean(), \" / std  Not Legendary: \", pokemon.Total[~pokemon.Legendary].std())"
   ]
  },
  {
   "cell_type": "markdown",
   "metadata": {},
   "source": [
    "The computation of the mean might give us a clue regarding how the statistical test may turn out; However, it certainly does not prove whether there is a significant difference between the two groups.\n",
    "\n",
    "In the cell below, use the `ttest_ind` function in `scipy.stats` to compare the the total points for legendary and non-legendary Pokemon. Since we do not have any information about the population, assume the variances are not equal."
   ]
  },
  {
   "cell_type": "code",
   "execution_count": 13,
   "metadata": {},
   "outputs": [
    {
     "data": {
      "text/plain": [
       "Ttest_indResult(statistic=25.8335743895517, pvalue=9.357954335957446e-47)"
      ]
     },
     "execution_count": 13,
     "metadata": {},
     "output_type": "execute_result"
    }
   ],
   "source": [
    "# Your code here:\n",
    "leg_total = pokemon.Total[pokemon.Legendary]\n",
    "notleg_total = pokemon.Total[~pokemon.Legendary]\n",
    "ttest_ind(leg_total,notleg_total, equal_var = False)"
   ]
  },
  {
   "cell_type": "markdown",
   "metadata": {},
   "source": [
    "What do you conclude from this test? Write your conclusions below."
   ]
  },
  {
   "cell_type": "code",
   "execution_count": 15,
   "metadata": {},
   "outputs": [
    {
     "data": {
      "text/plain": [
       "'\\nHay claramente diferencia significativa entre los puntos totales de lo legendarios y los no legendarios\\n'"
      ]
     },
     "execution_count": 15,
     "metadata": {},
     "output_type": "execute_result"
    }
   ],
   "source": [
    "# Your conclusions here:\n",
    "'''\n",
    "Hay claramente diferencia significativa entre los puntos totales de lo legendarios y los no legendarios\n",
    "'''"
   ]
  },
  {
   "cell_type": "markdown",
   "metadata": {},
   "source": [
    "How about we try to compare the different types of pokemon? In the cell below, list the types of Pokemon from column `Type 1` and the count of each type."
   ]
  },
  {
   "cell_type": "code",
   "execution_count": 17,
   "metadata": {},
   "outputs": [
    {
     "data": {
      "text/plain": [
       "Water       112\n",
       "Normal       98\n",
       "Grass        70\n",
       "Bug          69\n",
       "Psychic      57\n",
       "Fire         52\n",
       "Electric     44\n",
       "Rock         44\n",
       "Dragon       32\n",
       "Ground       32\n",
       "Ghost        32\n",
       "Dark         31\n",
       "Poison       28\n",
       "Steel        27\n",
       "Fighting     27\n",
       "Ice          24\n",
       "Fairy        17\n",
       "Flying        4\n",
       "Name: Type 1, dtype: int64"
      ]
     },
     "execution_count": 17,
     "metadata": {},
     "output_type": "execute_result"
    }
   ],
   "source": [
    "# Your code here:\n",
    "\n",
    "pokemon[\"Type 1\"].value_counts()"
   ]
  },
  {
   "cell_type": "markdown",
   "metadata": {},
   "source": [
    "Since water is the largest group of Pokemon, compare the mean and standard deviation of water Pokemon to all other Pokemon."
   ]
  },
  {
   "cell_type": "code",
   "execution_count": 19,
   "metadata": {},
   "outputs": [
    {
     "name": "stdout",
     "output_type": "stream",
     "text": [
      "mean Water:  430.45535714285717  / std Water:  113.18826606431458\n",
      "mean Rest:  435.85901162790697  / std Rest:  121.09168230208066\n"
     ]
    }
   ],
   "source": [
    "# Your code here:\n",
    "print(\"mean Water: \", pokemon.Total[pokemon[\"Type 1\"] == \"Water\"].mean(), \" / std Water: \",  pokemon.Total[pokemon[\"Type 1\"] == \"Water\"].std())\n",
    "print(\"mean Rest: \", pokemon.Total[pokemon[\"Type 1\"] != \"Water\"].mean(), \" / std Rest: \",  pokemon.Total[pokemon[\"Type 1\"] != \"Water\"].std())"
   ]
  },
  {
   "cell_type": "markdown",
   "metadata": {},
   "source": [
    "Perform a hypothesis test comparing the mean of total points for water Pokemon to all non-water Pokemon. Assume the variances are equal. "
   ]
  },
  {
   "cell_type": "code",
   "execution_count": 21,
   "metadata": {},
   "outputs": [
    {
     "data": {
      "text/plain": [
       "Ttest_indResult(statistic=-0.4418547448849676, pvalue=0.6587140317488793)"
      ]
     },
     "execution_count": 21,
     "metadata": {},
     "output_type": "execute_result"
    }
   ],
   "source": [
    "# Your code here:\n",
    "water = pokemon.Total[pokemon[\"Type 1\"] == \"Water\"]\n",
    "not_water = pokemon.Total[pokemon[\"Type 1\"] != \"Water\"]\n",
    "ttest_ind(water, not_water, equal_var = True)"
   ]
  },
  {
   "cell_type": "markdown",
   "metadata": {},
   "source": [
    "Write your conclusion below."
   ]
  },
  {
   "cell_type": "code",
   "execution_count": 22,
   "metadata": {},
   "outputs": [
    {
     "data": {
      "text/plain": [
       "'\\nNo hay diferencia significativa entre los pokemon tipo agua y el resto\\n'"
      ]
     },
     "execution_count": 22,
     "metadata": {},
     "output_type": "execute_result"
    }
   ],
   "source": [
    "# Your conclusions here:\n",
    "'''\n",
    "No hay diferencia significativa entre los pokemon tipo agua y el resto\n",
    "'''\n",
    "\n"
   ]
  },
  {
   "cell_type": "markdown",
   "metadata": {},
   "source": [
    "# Challenge 2 - Matched Pairs Test\n",
    "\n",
    "In this challenge we will compare dependent samples of data describing our Pokemon. Our goal is to see whether there is a significant difference between each Pokemon's defense and attack scores. Our hypothesis is that the defense and attack scores are equal. In the cell below, import the `ttest_rel` function from `scipy.stats` and compare the two columns to see if there is a statistically significant difference between them."
   ]
  },
  {
   "cell_type": "code",
   "execution_count": 27,
   "metadata": {},
   "outputs": [
    {
     "data": {
      "text/plain": [
       "Chi2ContingencyResult(statistic=0.0, pvalue=1.0, dof=0, expected_freq=array([ 49.,  62.,  82., 100.,  52.,  64.,  84., 130., 104.,  48.,  63.,\n",
       "        83., 103.,  30.,  20.,  45.,  35.,  25.,  90., 150.,  45.,  60.,\n",
       "        80.,  80.,  56.,  81.,  60.,  90.,  60.,  85.,  55.,  90.,  75.,\n",
       "       100.,  47.,  62.,  92.,  57.,  72., 102.,  45.,  70.,  41.,  76.,\n",
       "        45.,  70.,  45.,  80.,  50.,  65.,  80.,  70.,  95.,  55.,  65.,\n",
       "        55.,  80.,  45.,  70.,  52.,  82.,  80., 105.,  70., 110.,  50.,\n",
       "        65.,  95.,  20.,  35.,  50.,  50.,  80., 100., 130.,  75.,  90.,\n",
       "       105.,  40.,  70.,  80.,  95., 120.,  85., 100.,  65.,  75.,  75.,\n",
       "        35.,  60.,  65.,  85., 110.,  45.,  70.,  80., 105.,  65.,  95.,\n",
       "        35.,  50.,  65.,  65.,  45.,  48.,  73., 105., 130.,  30.,  50.,\n",
       "        40.,  95.,  50.,  80., 120., 105.,  55.,  65.,  90.,  85., 130.,\n",
       "         5.,  55.,  95., 125.,  40.,  65.,  67.,  92.,  45.,  75.,  45.,\n",
       "       110.,  50.,  83.,  95., 125., 155., 100.,  10., 125., 155.,  85.,\n",
       "        48.,  55.,  65.,  65., 130.,  60.,  40.,  60.,  80., 115., 105.,\n",
       "       135., 110.,  85.,  90., 100.,  64.,  84., 134., 110., 190., 150.,\n",
       "       100.,  49.,  62.,  82.,  52.,  64.,  84.,  65.,  80., 105.,  46.,\n",
       "        76.,  30.,  50.,  20.,  35.,  60.,  90.,  90.,  38.,  58.,  40.,\n",
       "        25.,  30.,  20.,  40.,  50.,  75.,  40.,  55.,  75.,  95.,  80.,\n",
       "        20.,  50., 100.,  75.,  35.,  45.,  55.,  70.,  30.,  75.,  65.,\n",
       "        45.,  85.,  65.,  65.,  85.,  75.,  60.,  72.,  33.,  80.,  65.,\n",
       "        90.,  70.,  75.,  85., 125.,  80., 120.,  95., 130., 150.,  10.,\n",
       "       125., 185.,  95.,  80., 130.,  40.,  50.,  50., 100.,  55.,  65.,\n",
       "       105.,  55.,  40.,  80.,  60.,  90.,  90.,  95.,  60., 120.,  80.,\n",
       "        95.,  20.,  35.,  95.,  30.,  63.,  75.,  80.,  10.,  85., 115.,\n",
       "        75.,  64.,  84., 134., 164.,  90., 130., 100.,  45.,  65.,  85.,\n",
       "       110.,  60.,  85., 120., 160.,  70.,  85., 110., 150.,  55.,  90.,\n",
       "        30.,  70.,  45.,  35.,  70.,  35.,  50.,  30.,  50.,  70.,  40.,\n",
       "        70., 100.,  55.,  85.,  30.,  50.,  25.,  35.,  65.,  85.,  30.,\n",
       "        60.,  40., 130.,  60.,  80., 160.,  45.,  90.,  90.,  51.,  71.,\n",
       "        91.,  60., 120.,  20.,  45.,  45.,  65.,  75.,  85.,  85., 105.,\n",
       "        70.,  90., 110., 140.,  40.,  60., 100.,  45.,  75.,  75.,  50.,\n",
       "        40.,  73.,  47.,  60.,  43.,  73.,  90., 120., 140.,  70.,  90.,\n",
       "        60., 100., 120.,  85.,  25.,  45.,  60., 100.,  70., 100.,  85.,\n",
       "       115.,  40.,  70., 110., 115., 100.,  55.,  95.,  48.,  78.,  80.,\n",
       "       120.,  40.,  70.,  41.,  81.,  95., 125.,  15.,  60.,  70.,  90.,\n",
       "        75., 115., 165.,  40.,  70.,  68.,  50., 130., 150.,  23.,  50.,\n",
       "        80., 120.,  40.,  60.,  80.,  64., 104.,  84.,  90.,  30.,  75.,\n",
       "        95., 135., 145.,  55.,  75., 135., 145., 100.,  50.,  75.,  80.,\n",
       "       100.,  90., 130., 100., 150., 150., 180., 150., 180., 100., 150.,\n",
       "       180.,  70.,  95.,  68.,  89., 109.,  58.,  78., 104.,  51.,  66.,\n",
       "        86.,  55.,  75., 120.,  45.,  85.,  25.,  85.,  65.,  85., 120.,\n",
       "        30.,  70., 125., 165.,  42.,  52.,  29.,  59.,  79.,  69.,  94.,\n",
       "        30.,  80.,  45.,  65., 105.,  35.,  60.,  48.,  83., 100.,  50.,\n",
       "        80.,  66.,  76., 136.,  60., 125.,  55.,  82.,  30.,  63.,  93.,\n",
       "        24.,  89.,  80.,  25.,   5.,  65.,  92.,  70.,  90., 130., 170.,\n",
       "        85.,  70., 110., 145.,  72., 112.,  50.,  90.,  61., 106., 100.,\n",
       "        49.,  69.,  20.,  62.,  92., 132., 120.,  70.,  85., 140., 100.,\n",
       "       123.,  95.,  50.,  76., 110.,  60.,  95., 130.,  80., 125., 165.,\n",
       "        55., 100.,  80.,  50.,  65.,  65.,  65.,  65.,  65.,  75., 105.,\n",
       "       125., 120., 120.,  90., 160., 100., 120.,  70.,  80., 100.,  90.,\n",
       "       100., 103., 120., 100.,  45.,  60.,  75.,  63.,  93., 123.,  55.,\n",
       "        75., 100.,  55.,  85.,  60.,  80., 110.,  50.,  88.,  53.,  98.,\n",
       "        53.,  98.,  53.,  98.,  25.,  55.,  55.,  77., 115.,  60., 100.,\n",
       "        75., 105., 135.,  45.,  57.,  85., 135.,  60.,  60.,  80., 105.,\n",
       "       140.,  50.,  65.,  95., 100., 125.,  53.,  63., 103.,  45.,  55.,\n",
       "       100.,  27.,  67.,  35.,  60.,  92.,  72.,  82., 117.,  90., 140.,\n",
       "        30.,  86.,  65.,  95.,  75.,  90.,  58.,  30.,  50.,  78., 108.,\n",
       "       112., 140.,  50.,  95.,  65., 105.,  50.,  95.,  30.,  45.,  55.,\n",
       "        30.,  40.,  65.,  44.,  87.,  50.,  65.,  95.,  60., 100.,  75.,\n",
       "        75., 135.,  55.,  85.,  40.,  60.,  75.,  47.,  77.,  50.,  94.,\n",
       "        55.,  80., 100.,  55.,  85., 115.,  55.,  75.,  30.,  40.,  55.,\n",
       "        87., 117., 147.,  70., 110.,  50.,  40.,  70.,  66.,  85., 125.,\n",
       "       120.,  74., 124.,  85., 125., 110.,  83., 123.,  55.,  65.,  97.,\n",
       "       109.,  65.,  85., 105.,  85.,  60.,  90., 129.,  90., 115., 100.,\n",
       "       115., 105., 120., 150., 125., 145., 130., 170., 120.,  72.,  72.,\n",
       "        77., 128., 120.,  61.,  78., 107.,  45.,  59.,  69.,  56.,  63.,\n",
       "        95.,  36.,  56.,  50.,  73.,  81.,  35.,  22.,  52.,  50.,  68.,\n",
       "        38.,  45.,  65.,  65., 100.,  82., 124.,  80.,  48.,  48.,  48.,\n",
       "        80., 110., 150.,  50.,  52.,  72.,  48.,  80.,  54.,  92.,  52.,\n",
       "       105.,  60.,  75.,  53.,  73.,  38.,  55.,  89., 121.,  59.,  77.,\n",
       "        65.,  92.,  58.,  50.,  50.,  75., 100.,  80.,  70., 110.,  66.,\n",
       "        66.,  66.,  66.,  90.,  85.,  95., 100.,  69., 117.,  30.,  70.,\n",
       "       131., 131., 100., 100., 160., 110., 160., 110.]))"
      ]
     },
     "execution_count": 27,
     "metadata": {},
     "output_type": "execute_result"
    }
   ],
   "source": [
    "chi2_contingency(pokemon[\"Attack\"], pokemon[\"Defense\"])"
   ]
  },
  {
   "cell_type": "code",
   "execution_count": 23,
   "metadata": {},
   "outputs": [
    {
     "data": {
      "text/plain": [
       "TtestResult(statistic=4.325566393330478, pvalue=1.7140303479358558e-05, df=799)"
      ]
     },
     "execution_count": 23,
     "metadata": {},
     "output_type": "execute_result"
    }
   ],
   "source": [
    "# Your code here:\n",
    "ttest_rel(pokemon[\"Attack\"], pokemon[\"Defense\"])\n"
   ]
  },
  {
   "cell_type": "markdown",
   "metadata": {},
   "source": [
    "Describe the results of the test in the cell below."
   ]
  },
  {
   "cell_type": "code",
   "execution_count": 12,
   "metadata": {},
   "outputs": [],
   "source": [
    "# Your conclusions here:\n",
    "'''\n",
    "Hay diferencias significativas entre Attack vs. Defense\n",
    "'''\n",
    "\n"
   ]
  },
  {
   "cell_type": "markdown",
   "metadata": {},
   "source": [
    "We are also curious about whether therer is a significant difference between the mean of special defense and the mean of special attack. Perform the hypothesis test in the cell below. "
   ]
  },
  {
   "cell_type": "code",
   "execution_count": 28,
   "metadata": {},
   "outputs": [
    {
     "data": {
      "text/plain": [
       "TtestResult(statistic=0.853986188453353, pvalue=0.3933685997548122, df=799)"
      ]
     },
     "execution_count": 28,
     "metadata": {},
     "output_type": "execute_result"
    }
   ],
   "source": [
    "# Your code here:\n",
    "ttest_rel(pokemon[\"Sp. Atk\"], pokemon[\"Sp. Def\"])\n"
   ]
  },
  {
   "cell_type": "markdown",
   "metadata": {},
   "source": [
    "Describe the results of the test in the cell below."
   ]
  },
  {
   "cell_type": "code",
   "execution_count": 29,
   "metadata": {},
   "outputs": [
    {
     "data": {
      "text/plain": [
       "'\\nNo hay diferencias significativasentre Sp. Atk vs Sp. Def\\n\\n'"
      ]
     },
     "execution_count": 29,
     "metadata": {},
     "output_type": "execute_result"
    }
   ],
   "source": [
    "# Your conclusions here:\n",
    "'''\n",
    "No hay diferencias significativasentre Sp. Atk vs Sp. Def\n",
    "\n",
    "'''\n"
   ]
  },
  {
   "cell_type": "markdown",
   "metadata": {},
   "source": [
    "As you may recall, a two sample matched pairs test can also be expressed as a one sample test of the difference between the two dependent columns.\n",
    "\n",
    "Import the `ttest_1samp` function and perform a one sample t-test of the difference between defense and attack. Test the hypothesis that the difference between the means is zero. Confirm that the results of the test are the same."
   ]
  },
  {
   "cell_type": "code",
   "execution_count": 55,
   "metadata": {},
   "outputs": [
    {
     "data": {
      "text/plain": [
       "TtestResult(statistic=-4.325566393330478, pvalue=1.7140303479358558e-05, df=799)"
      ]
     },
     "execution_count": 55,
     "metadata": {},
     "output_type": "execute_result"
    }
   ],
   "source": [
    "# Your code here:\n",
    "diff = pokemon[\"Defense\"]-pokemon[\"Attack\"]\n",
    "ttest_1samp(diff, 0)   "
   ]
  },
  {
   "cell_type": "markdown",
   "metadata": {},
   "source": [
    "# Bonus Challenge - The Chi-Square Test\n",
    "\n",
    "The Chi-Square test is used to determine whether there is a statistically significant difference in frequencies. In other words, we are testing whether there is a relationship between categorical variables or rather when the variables are independent. This test is an alternative to Fisher's exact test and is used in scenarios where sample sizes are larger. However, with a large enough sample size, both tests produce similar results. Read more about the Chi Squared test [here](https://en.wikipedia.org/wiki/Chi-squared_test).\n",
    "\n",
    "In the cell below, create a contingency table using `pd.crosstab` comparing whether a Pokemon is legenadary or not and whether the Type 1 of a Pokemon is water or not."
   ]
  },
  {
   "cell_type": "code",
   "execution_count": 63,
   "metadata": {},
   "outputs": [
    {
     "data": {
      "text/html": [
       "<div>\n",
       "<style scoped>\n",
       "    .dataframe tbody tr th:only-of-type {\n",
       "        vertical-align: middle;\n",
       "    }\n",
       "\n",
       "    .dataframe tbody tr th {\n",
       "        vertical-align: top;\n",
       "    }\n",
       "\n",
       "    .dataframe thead th {\n",
       "        text-align: right;\n",
       "    }\n",
       "</style>\n",
       "<table border=\"1\" class=\"dataframe\">\n",
       "  <thead>\n",
       "    <tr style=\"text-align: right;\">\n",
       "      <th>Type 1</th>\n",
       "      <th>False</th>\n",
       "      <th>True</th>\n",
       "    </tr>\n",
       "    <tr>\n",
       "      <th>Legendary</th>\n",
       "      <th></th>\n",
       "      <th></th>\n",
       "    </tr>\n",
       "  </thead>\n",
       "  <tbody>\n",
       "    <tr>\n",
       "      <th>False</th>\n",
       "      <td>627</td>\n",
       "      <td>108</td>\n",
       "    </tr>\n",
       "    <tr>\n",
       "      <th>True</th>\n",
       "      <td>61</td>\n",
       "      <td>4</td>\n",
       "    </tr>\n",
       "  </tbody>\n",
       "</table>\n",
       "</div>"
      ],
      "text/plain": [
       "Type 1     False  True \n",
       "Legendary              \n",
       "False        627    108\n",
       "True          61      4"
      ]
     },
     "execution_count": 63,
     "metadata": {},
     "output_type": "execute_result"
    }
   ],
   "source": [
    "# Your code here:\n",
    "\n",
    "cross = pd.crosstab( pokemon[\"Legendary\"], pokemon[\"Type 1\"]==\"Water\")\n",
    "cross"
   ]
  },
  {
   "cell_type": "markdown",
   "metadata": {},
   "source": [
    "Perform a chi-squared test using the `chi2_contingency` function in `scipy.stats`. You can read the documentation of the function [here](https://docs.scipy.org/doc/scipy-0.15.1/reference/generated/scipy.stats.chi2_contingency.html)."
   ]
  },
  {
   "cell_type": "code",
   "execution_count": 64,
   "metadata": {},
   "outputs": [
    {
     "data": {
      "text/plain": [
       "Chi2ContingencyResult(statistic=2.9429200762850503, pvalue=0.08625467249550949, dof=1, expected_freq=array([[632.1, 102.9],\n",
       "       [ 55.9,   9.1]]))"
      ]
     },
     "execution_count": 64,
     "metadata": {},
     "output_type": "execute_result"
    }
   ],
   "source": [
    "# Your code here:\n",
    "chi2_contingency(cross)"
   ]
  },
  {
   "cell_type": "markdown",
   "metadata": {},
   "source": [
    "Based on a 95% confidence, should we reject the null hypothesis?"
   ]
  },
  {
   "cell_type": "code",
   "execution_count": 66,
   "metadata": {},
   "outputs": [
    {
     "data": {
      "text/plain": [
       "'\\nNo podemos rechazar la hipótesis nula ya que el p_value es mayor a 0,05\\n\\n'"
      ]
     },
     "execution_count": 66,
     "metadata": {},
     "output_type": "execute_result"
    }
   ],
   "source": [
    "# Your answer here:\n",
    "'''\n",
    "No podemos rechazar la hipótesis nula ya que el p_value es mayor a 0,05\n",
    "\n",
    "'''\n"
   ]
  }
 ],
 "metadata": {
  "kernelspec": {
   "display_name": "Python 3 (ipykernel)",
   "language": "python",
   "name": "python3"
  },
  "language_info": {
   "codemirror_mode": {
    "name": "ipython",
    "version": 3
   },
   "file_extension": ".py",
   "mimetype": "text/x-python",
   "name": "python",
   "nbconvert_exporter": "python",
   "pygments_lexer": "ipython3",
   "version": "3.11.4"
  }
 },
 "nbformat": 4,
 "nbformat_minor": 2
}
